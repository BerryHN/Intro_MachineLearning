{
 "cells": [
  {
   "cell_type": "code",
   "execution_count": 19,
   "metadata": {
    "collapsed": false
   },
   "outputs": [],
   "source": [
    "import numpy as np\n",
    "import matplotlib.pyplot as plt\n",
    "import seaborn as sns\n",
    "#%matplotlib nbagg\n",
    "\n",
    "sns.set_style('whitegrid')\n",
    "plt.rcParams['figure.figsize'] = (8,7)"
   ]
  },
  {
   "cell_type": "markdown",
   "metadata": {},
   "source": [
    "<h1>Performance Evaluation</h1>\n",
    "<p>In the present notebook we will introduce metrics to evaluate a classifier performance but also common practices when it comes to test the robustness of machine learning algorithms.</p>"
   ]
  },
  {
   "cell_type": "code",
   "execution_count": 88,
   "metadata": {
    "collapsed": false
   },
   "outputs": [],
   "source": [
    "from sklearn.datasets import load_breast_cancer\n",
    "dataset = load_breast_cancer()\n",
    "X = dataset.data[:,:10]\n",
    "y = dataset.target\n",
    "tgt = list(dataset.target_names)"
   ]
  },
  {
   "cell_type": "markdown",
   "metadata": {},
   "source": [
    "<h2>Train-Test Spliting</h2>\n",
    "\n",
    "<p>We can first try to see the difference when using this approach on the iris classification problem</p>"
   ]
  },
  {
   "cell_type": "code",
   "execution_count": 66,
   "metadata": {
    "collapsed": false
   },
   "outputs": [],
   "source": [
    "from sklearn.ensemble import RandomForestClassifier, ExtraTreesClassifier\n",
    "from sklearn.neighbors import KNeighborsClassifier\n",
    "from sklearn.tree import DecisionTreeClassifier\n",
    "\n",
    "knn = KNeighborsClassifier()\n",
    "dtc = DecisionTreeClassifier()\n",
    "rft = RandomForestClassifier()\n",
    "etc = ExtraTreesClassifier()"
   ]
  },
  {
   "cell_type": "code",
   "execution_count": 68,
   "metadata": {
    "collapsed": true
   },
   "outputs": [],
   "source": [
    "from sklearn.model_selection import train_test_split, cross_val_score\n",
    "from sklearn.metrics import classification_report, confusion_matrix"
   ]
  },
  {
   "cell_type": "code",
   "execution_count": 91,
   "metadata": {
    "collapsed": false
   },
   "outputs": [
    {
     "name": "stdout",
     "output_type": "stream",
     "text": [
      "             precision    recall  f1-score   support\n",
      "\n",
      "  malignant       0.92      0.83      0.87       212\n",
      "     benign       0.90      0.96      0.93       357\n",
      "\n",
      "avg / total       0.91      0.91      0.91       569\n",
      "\n"
     ]
    },
    {
     "data": {
      "image/png": "[encoded data removed]",
      "text/plain": [
       "<matplotlib.figure.Figure at 0x119f61780>"
      ]
     },
     "metadata": {},
     "output_type": "display_data"
    }
   ],
   "source": [
    "knn.fit(X,y)\n",
    "pred_knn = knn.predict(X)\n",
    "\n",
    "print(classification_report(y_true=y, y_pred=pred_knn, target_names=tgt))\n",
    "\n",
    "_ = sns.heatmap(confusion_matrix(y_true=y, y_pred=pred_knn),\n",
    "                xticklabels=tgt, yticklabels=tgt,\n",
    "                annot=True, fmt='d', cmap='viridis')"
   ]
  },
  {
   "cell_type": "code",
   "execution_count": 93,
   "metadata": {
    "collapsed": false
   },
   "outputs": [
    {
     "name": "stdout",
     "output_type": "stream",
     "text": [
      "[ 0.83157895  0.88947368  0.88359788]\n",
      "Average accuracy : 0.8682168383922769\n"
     ]
    }
   ],
   "source": [
    "acc = cross_val_score(knn, X[:,:10], y, scoring='accuracy', cv=3)\n",
    "print(acc)\n",
    "print('Average accuracy : {}'.format(np.mean(acc)))"
   ]
  },
  {
   "cell_type": "code",
   "execution_count": 94,
   "metadata": {
    "collapsed": false
   },
   "outputs": [
    {
     "name": "stdout",
     "output_type": "stream",
     "text": [
      "             precision    recall  f1-score   support\n",
      "\n",
      "  malignant       1.00      1.00      1.00       212\n",
      "     benign       1.00      1.00      1.00       357\n",
      "\n",
      "avg / total       1.00      1.00      1.00       569\n",
      "\n"
     ]
    },
    {
     "data": {
      "image/png": "[encoded data removed]",
      "text/plain": [
       "<matplotlib.figure.Figure at 0x129b76e80>"
      ]
     },
     "metadata": {},
     "output_type": "display_data"
    }
   ],
   "source": [
    "dtc.fit(X,y)\n",
    "pred_dtc = dtc.predict(X)\n",
    "\n",
    "print(classification_report(y_true=y, y_pred=pred_dtc, target_names=tgt))\n",
    "\n",
    "_ = sns.heatmap(confusion_matrix(y_true=y, y_pred=pred_dtc),\n",
    "                xticklabels=tgt, yticklabels=tgt,\n",
    "                annot=True, fmt='d', cmap='viridis')"
   ]
  },
  {
   "cell_type": "code",
   "execution_count": 95,
   "metadata": {
    "collapsed": false
   },
   "outputs": [
    {
     "name": "stdout",
     "output_type": "stream",
     "text": [
      "[ 0.92631579  0.92105263  0.93121693]\n",
      "Average accuracy : 0.9261951174231875\n"
     ]
    }
   ],
   "source": [
    "acc = cross_val_score(dtc, X[:,:10], y, scoring='accuracy', cv=3)\n",
    "print(acc)\n",
    "print('Average accuracy : {}'.format(np.mean(acc)))"
   ]
  },
  {
   "cell_type": "code",
   "execution_count": null,
   "metadata": {
    "collapsed": true
   },
   "outputs": [],
   "source": []
  }
 ],
 "metadata": {
  "kernelspec": {
   "display_name": "Python 3",
   "language": "python",
   "name": "python3"
  },
  "language_info": {
   "codemirror_mode": {
    "name": "ipython",
    "version": 3
   },
   "file_extension": ".py",
   "mimetype": "text/x-python",
   "name": "python",
   "nbconvert_exporter": "python",
   "pygments_lexer": "ipython3",
   "version": "3.5.2"
  }
 },
 "nbformat": 4,
 "nbformat_minor": 0
}
