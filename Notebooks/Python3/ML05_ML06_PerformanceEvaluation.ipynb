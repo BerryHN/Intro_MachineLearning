{
 "cells": [
  {
   "cell_type": "code",
   "execution_count": 1,
   "metadata": {
    "collapsed": false
   },
   "outputs": [],
   "source": [
    "import numpy as np\n",
    "import matplotlib.pyplot as plt\n",
    "import seaborn as sns\n",
    "#%matplotlib nbagg\n",
    "%matplotlib inline\n",
    "\n",
    "sns.set_style('whitegrid')\n",
    "plt.rcParams['figure.figsize'] = (8,7)"
   ]
  },
  {
   "cell_type": "markdown",
   "metadata": {},
   "source": [
    "<h1>Performance Evaluation</h1>\n",
    "<p>In the present notebook we will introduce how to use different metrics to evaluate a classifier performance but also common practices when it comes to test the robustness of machine learning algorithms.</p>"
   ]
  },
  {
   "cell_type": "markdown",
   "metadata": {},
   "source": [
    "<h2>Train-Test Spliting</h2>\n",
    "\n",
    "<p>Question : how to evaluate the quality of a classifier on a dataset?\n",
    "The most common approach consist in splitting the dataset in two parts (not necessarily equal) that we name the training or train set and the testing or test set.<br>\n",
    "Obviously the split must be done with care!\n",
    "If we end up with a train and test sets that are not representative of the original dataset our performance evaluation will be strongly biased.\n",
    "For instance it can be important to respect the different classes balance within the dataset.</p>\n",
    "<p>Scikit has several functions available to split a dataset in train and test sets, let's look at it in more details :</p>"
   ]
  },
  {
   "cell_type": "code",
   "execution_count": 2,
   "metadata": {
    "collapsed": false
   },
   "outputs": [
    {
     "name": "stdout",
     "output_type": "stream",
     "text": [
      "Distribution for the iris dataset :\n",
      "[50 50 50]\n"
     ]
    }
   ],
   "source": [
    "from sklearn.datasets import load_iris\n",
    "\n",
    "# Iris is a perfectly balanced dataset\n",
    "iris = load_iris()\n",
    "print('Distribution for the iris dataset :')\n",
    "print(np.unique(iris.target, return_counts=True)[1])"
   ]
  },
  {
   "cell_type": "code",
   "execution_count": 3,
   "metadata": {
    "collapsed": false
   },
   "outputs": [
    {
     "name": "stdout",
     "output_type": "stream",
     "text": [
      "Distribution for the train subset :\n",
      "[29 25 21]\n"
     ]
    }
   ],
   "source": [
    "# the train_test_split() function can be found in sklearn.model_selection\n",
    "from sklearn.model_selection import train_test_split\n",
    "\n",
    "# Here I only force the train and test sets to be 50-50 of the original dataset\n",
    "train_data, test_data, train_target, test_target = train_test_split(iris.data, iris.target, train_size=0.5)\n",
    "\n",
    "print('Distribution for the train subset :')\n",
    "print(np.unique(train_target, return_counts=True)[1])"
   ]
  },
  {
   "cell_type": "markdown",
   "metadata": {},
   "source": [
    "<p>As we can see the ```train_test_split()``` function does not protect the original frequency of each class... it only focuses on the size of the train and test sets.\n",
    "Fortunately ```sklearn``` provides several functions to split my dataset forcing certain conditions (check out [here](http://scikit-learn.org/stable/modules/classes.html#module-sklearn.model_selection) section ```sklearn.model_selection :``` __Model Selection__)...\n",
    "Actually passing the dataset labels via the keyword ```stratify``` forces the class frequencies to be respected :</p>"
   ]
  },
  {
   "cell_type": "code",
   "execution_count": 4,
   "metadata": {
    "collapsed": false
   },
   "outputs": [
    {
     "name": "stdout",
     "output_type": "stream",
     "text": [
      "Distribution for the train subset :\n",
      "[25 25 25]\n"
     ]
    }
   ],
   "source": [
    "# I use abbreviation here for legibility\n",
    "tr_data, te_data, tr_target, te_target = train_test_split(iris.data, iris.target,\n",
    "                                                          train_size=0.5, stratify=iris.target)\n",
    "\n",
    "print('Distribution for the train subset :')\n",
    "print(np.unique(tr_target, return_counts=True)[1])"
   ]
  },
  {
   "cell_type": "markdown",
   "metadata": {},
   "source": [
    "<p>I can already hear your question here :<br>\n",
    "\"Great, I know how to split my dataset to train and test it but what is a good choice for the split? 50-50? 60-30? 99-1?\"<br>\n",
    "And the answer is ... :<br>\n",
    "\"It depends\"</p>\n",
    "<p>There is no theoretical method or formula to tell you what is the best split to apply.\n",
    "It is recommend to take train set bigger than the test set but such that the score computed on the test set stays statistically significant.\n",
    "In other words make sure you have enough elements left in the test set such that accuracy, precision or recall make sense.</p>\n",
    "<p>Let's run a simple example showing the influence of the train/test split on the accuracy (you can repeat the operation for the precision and the recall if you want).\n",
    "For this we will use the k-Nearest Neighbors technique on the breast cancer dataset.\n",
    "Instead of creating a loop to change the train/test ratio we will use directly the ```learning_curve``` function from ```sklearn``` as it is the purpose of its existence.</p>"
   ]
  },
  {
   "cell_type": "code",
   "execution_count": 5,
   "metadata": {
    "collapsed": false
   },
   "outputs": [],
   "source": [
    "from sklearn.datasets import load_breast_cancer\n",
    "bcan = load_breast_cancer()\n",
    "\n",
    "from sklearn.neighbors import KNeighborsClassifier\n",
    "knn = KNeighborsClassifier()"
   ]
  },
  {
   "cell_type": "code",
   "execution_count": 6,
   "metadata": {
    "collapsed": false
   },
   "outputs": [
    {
     "data": {
      "image/png": "[encoded data removed]",
      "text/plain": [
       "<matplotlib.figure.Figure at 0x10a36be80>"
      ]
     },
     "metadata": {},
     "output_type": "display_data"
    }
   ],
   "source": [
    "from sklearn.model_selection import learning_curve\n",
    "\n",
    "n_train, train_score, test_score = learning_curve(knn, bcan.data, bcan.target,\n",
    "                                                  train_sizes=np.arange(0.1,1.0,0.1))\n",
    "\n",
    "fig, ax = plt.subplots(1,1,figsize=(10,8))\n",
    "ax.plot(np.arange(0.1,1.0,0.1), np.mean(train_score, axis=1), 'C0')\n",
    "ax.plot(np.arange(0.1,1.0,0.1), np.mean(test_score, axis=1), 'C1')\n",
    "ax.set_xlabel('Train set size')\n",
    "ax.set_ylabel('Accuracy')\n",
    "ax.legend(['Score on Train set','Score on Test set'], loc=5);"
   ]
  },
  {
   "cell_type": "markdown",
   "metadata": {},
   "source": [
    "<p>In that case you can see that a 50-50 split was enough but in more complex cases when the dataset is noisy and/or unbalanced you will probably need to increase the size of your training set.\n",
    "Basically you will probably end up testing different train/test ratios.</p>\n",
    "\n",
    "<h3>Other Scoring Functions : Precision, Recall and F-score</h3>\n",
    "<p>Accuracy is one thing but can be biased if the dataset is very unbalanced.<br>\n",
    "Fortunately there exist other scoring functions namely the __precision__, the __recall__ and the __F-score__.\n",
    "The latter score actually allows to evaluate the balance between precision and recall.<br>\n",
    "Let's see in practice how to compute accuracy, precision, recall and F-score in practice with ``scikit`` :</p>"
   ]
  },
  {
   "cell_type": "code",
   "execution_count": 7,
   "metadata": {
    "collapsed": true
   },
   "outputs": [],
   "source": [
    "# first let's split the breast cancer dataset in train and test sets\n",
    "tr_data, te_data, tr_target, te_target = train_test_split(bcan.data, bcan.target,\n",
    "                                                          train_size=0.5, stratify=bcan.target)\n",
    "\n",
    "# then we train an algorithm on the train set...\n",
    "knn = KNeighborsClassifier()\n",
    "knn.fit(tr_data, tr_target)\n",
    "\n",
    "# and ask to predict for the test set\n",
    "pred_knn = knn.predict(te_data)"
   ]
  },
  {
   "cell_type": "markdown",
   "metadata": {},
   "source": [
    "<p>Now we can compute the different scores (don't forget that these quantities are evaluated on the test set only):</p>"
   ]
  },
  {
   "cell_type": "code",
   "execution_count": 8,
   "metadata": {
    "collapsed": false
   },
   "outputs": [
    {
     "name": "stdout",
     "output_type": "stream",
     "text": [
      "Accuracy : 0.9157894736842105\n",
      "Precision : 0.9329608938547486\n",
      "Recall : 0.9329608938547486\n",
      "F-score : 0.9329608938547486\n"
     ]
    }
   ],
   "source": [
    "from sklearn.metrics import accuracy_score, precision_score, recall_score, f1_score\n",
    "\n",
    "acc = accuracy_score(y_pred=pred_knn, y_true=te_target)\n",
    "pre = precision_score(y_pred=pred_knn, y_true=te_target)\n",
    "rec = recall_score(y_pred=pred_knn, y_true=te_target)\n",
    "f1s = f1_score(y_pred=pred_knn, y_true=te_target)\n",
    "\n",
    "print('Accuracy : {}'.format(acc))\n",
    "print('Precision : {}'.format(pre))\n",
    "print('Recall : {}'.format(rec))\n",
    "print('F-score : {}'.format(f1s))"
   ]
  },
  {
   "cell_type": "markdown",
   "metadata": {},
   "source": [
    "<p>__A little warning here__ : The breast cancer dataset includes only two classes and in this case the previous functions returns the score for only one class.\n",
    "If your dataset includes more than one class you need to specify the ``average`` function used to compute the global scores (more details [here](http://scikit-learn.org/stable/modules/generated/sklearn.metrics.precision_score.html#sklearn.metrics.precision_score)).</p>\n",
    "<p>To illustrate that point let's go back to the iris dataset :</p>"
   ]
  },
  {
   "cell_type": "code",
   "execution_count": 9,
   "metadata": {
    "collapsed": false
   },
   "outputs": [
    {
     "name": "stdout",
     "output_type": "stream",
     "text": [
      "Accuracy : 0.9866666666666667\n",
      "Precision : 0.9866666666666667\n",
      "Recall : 0.9866666666666667\n",
      "F-score : 0.9866666666666668\n"
     ]
    }
   ],
   "source": [
    "# first let's split the breast cancer dataset in train and test sets\n",
    "tr_data, te_data, tr_target, te_target = train_test_split(iris.data, iris.target,\n",
    "                                                          train_size=0.5, stratify=iris.target)\n",
    "\n",
    "# then we train an algorithm on the train set...\n",
    "knn = KNeighborsClassifier()\n",
    "knn.fit(tr_data, tr_target)\n",
    "\n",
    "# and ask to predict for the test set\n",
    "pred_knn = knn.predict(te_data)\n",
    "\n",
    "# note the 'average' keyword neceassry here\n",
    "# but not for accuracy which is computed globally\n",
    "acc = accuracy_score(y_pred=pred_knn, y_true=te_target)\n",
    "pre = precision_score(y_pred=pred_knn, y_true=te_target, average='micro')\n",
    "rec = recall_score(y_pred=pred_knn, y_true=te_target, average='micro')\n",
    "f1s = f1_score(y_pred=pred_knn, y_true=te_target, average='micro')\n",
    "\n",
    "print('Accuracy : {}'.format(acc))\n",
    "print('Precision : {}'.format(pre))\n",
    "print('Recall : {}'.format(rec))\n",
    "print('F-score : {}'.format(f1s))"
   ]
  },
  {
   "cell_type": "markdown",
   "metadata": {},
   "source": [
    "<p>More interestingly it is possible to compute the quantities separately for each class within the dataset using some functions available with ``scikit`` (note it doesn't include the accuracy) ... </p>"
   ]
  },
  {
   "cell_type": "code",
   "execution_count": 10,
   "metadata": {
    "collapsed": false
   },
   "outputs": [
    {
     "name": "stdout",
     "output_type": "stream",
     "text": [
      "Precisions : 1.00 ; 1.00 ; 0.96\n",
      "Recalls    : 1.00 ; 0.96 ; 1.00\n",
      "F-scores   : 1.00 ; 0.98 ; 0.98\n"
     ]
    }
   ],
   "source": [
    "from sklearn.metrics import precision_recall_fscore_support\n",
    "\n",
    "pre, rec, f1s, _ = precision_recall_fscore_support(y_pred=pred_knn, y_true=te_target)\n",
    "\n",
    "print('Precisions : {:.2f} ; {:.2f} ; {:.2f}'.format(pre[0],pre[1],pre[2]))\n",
    "print('Recalls    : {:.2f} ; {:.2f} ; {:.2f}'.format(rec[0],rec[1],rec[2]))\n",
    "print('F-scores   : {:.2f} ; {:.2f} ; {:.2f}'.format(f1s[0],f1s[1],f1s[2]))"
   ]
  },
  {
   "cell_type": "markdown",
   "metadata": {},
   "source": [
    "<p>... and if you want ``scikit`` to give a full report (text report) you can also do :</p>"
   ]
  },
  {
   "cell_type": "code",
   "execution_count": 12,
   "metadata": {
    "collapsed": false
   },
   "outputs": [
    {
     "name": "stdout",
     "output_type": "stream",
     "text": [
      "             precision    recall  f1-score   support\n",
      "\n",
      "     setosa       1.00      1.00      1.00        25\n",
      " versicolor       1.00      0.96      0.98        25\n",
      "  virginica       0.96      1.00      0.98        25\n",
      "\n",
      "avg / total       0.99      0.99      0.99        75\n",
      "\n"
     ]
    }
   ],
   "source": [
    "from sklearn.metrics import classification_report\n",
    "\n",
    "report = classification_report(y_true=te_target, y_pred=pred_knn, target_names=iris.target_names)\n",
    "print(report)"
   ]
  },
  {
   "cell_type": "markdown",
   "metadata": {},
   "source": [
    "<h3>Confusion Matrix</h3>\n",
    "<p>Feels like we have done a lot already?<br>\n",
    "I agree but we can go even further. When doing multi-class classification we are interested in checking the algorithm confusion.\n",
    "Meaning that we want to know which samples of a given class $C_i$ were mistaken for which other class $C_j$.<br>\n",
    "This can be done looking at the __confusion matrix__ :</p>"
   ]
  },
  {
   "cell_type": "code",
   "execution_count": 13,
   "metadata": {
    "collapsed": false
   },
   "outputs": [
    {
     "data": {
      "text/plain": [
       "array([[25,  0,  0],\n",
       "       [ 0, 24,  1],\n",
       "       [ 0,  0, 25]])"
      ]
     },
     "execution_count": 13,
     "metadata": {},
     "output_type": "execute_result"
    }
   ],
   "source": [
    "from sklearn.metrics import confusion_matrix\n",
    "\n",
    "# computing the confusion matrix\n",
    "conf_mat = confusion_matrix(y_true=te_target, y_pred=pred_knn)\n",
    "conf_mat"
   ]
  },
  {
   "cell_type": "markdown",
   "metadata": {},
   "source": [
    "<p>and if you want a nice visualization you can use the ``seaborn`` library :</p>"
   ]
  },
  {
   "cell_type": "code",
   "execution_count": 14,
   "metadata": {
    "collapsed": false
   },
   "outputs": [
    {
     "data": {
      "image/png": "[encoded data removed]",
      "text/plain": [
       "<matplotlib.figure.Figure at 0x10a3a4cf8>"
      ]
     },
     "metadata": {},
     "output_type": "display_data"
    }
   ],
   "source": [
    "# visualising the confusion matrix using seaborn heatmap\n",
    "labels = list(iris.target_names)\n",
    "sns.heatmap(conf_mat, xticklabels=labels, yticklabels=labels,\n",
    "            annot=True, fmt='d', cmap='Blues');"
   ]
  },
  {
   "cell_type": "markdown",
   "metadata": {},
   "source": [
    "<p>By the way, just a little trick, it is possible to compute the accuracy on the test set from the confusion matrix directly by summing the diagonal elements and dividing the result by the sum over the whole matrix :</p>"
   ]
  },
  {
   "cell_type": "code",
   "execution_count": 33,
   "metadata": {
    "collapsed": false
   },
   "outputs": [
    {
     "name": "stdout",
     "output_type": "stream",
     "text": [
      "Accuracy from the confusion matrix : 0.9867\n"
     ]
    }
   ],
   "source": [
    "sum_diag = np.sum(conf_mat.diagonal())\n",
    "acc_conf_mat = sum_diag / np.sum(conf_mat)\n",
    "print('Accuracy from the confusion matrix : {:.4f}'.format(acc_conf_mat))"
   ]
  },
  {
   "cell_type": "markdown",
   "metadata": {
    "collapsed": true
   },
   "source": [
    "<p>At this stage we have computed :\n",
    "<ul>\n",
    "<li>The global __accuracy__</li>\n",
    "<li>The __precision__ globally and for each class</li>\n",
    "<li>The __recall__ globally and for each class</li>\n",
    "<li>The __F-score__ globally and for each class</li>\n",
    "<li>The __confusion matrix__</li>\n",
    "</ul>\n",
    "All of these quantities give you how well/bad your algorithm performs on your dataset, up to you now to choose which aspect you want to optimize.\n",
    "</p>\n",
    "<p>We will have a closer look at the optimization of a classifier in another notebook...</p>"
   ]
  },
  {
   "cell_type": "code",
   "execution_count": null,
   "metadata": {
    "collapsed": true
   },
   "outputs": [],
   "source": []
  }
 ],
 "metadata": {
  "kernelspec": {
   "display_name": "Python 3",
   "language": "python",
   "name": "python3"
  },
  "language_info": {
   "codemirror_mode": {
    "name": "ipython",
    "version": 3
   },
   "file_extension": ".py",
   "mimetype": "text/x-python",
   "name": "python",
   "nbconvert_exporter": "python",
   "pygments_lexer": "ipython3",
   "version": "3.5.2"
  }
 },
 "nbformat": 4,
 "nbformat_minor": 0
}
